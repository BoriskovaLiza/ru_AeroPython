{
 "cells": [
  {
   "cell_type": "markdown",
   "metadata": {},
   "source": [
    "## 2. Тест Вензингера"
   ]
  },
  {
   "cell_type": "code",
   "execution_count": 64,
   "metadata": {},
   "outputs": [],
   "source": [
    "import pandas as pd\n",
    "import numpy\n",
    "from matplotlib import pyplot as plt\n",
    "from scipy import integrate, linalg\n",
    "\n",
    "MainFoil = pd.read_csv('lessons/resources/NACA23012_MainFoil.csv')\n",
    "\n",
    "MainFoil_x = MainFoil['1.000000000000000000e+00'].to_numpy(copy=True)\n",
    "MainFoil_y = MainFoil['0.000000000000000000e+00'].to_numpy(copy=True)\n",
    "\n",
    "MainFoil_x = numpy.insert(MainFoil_x, 0, 1.0)\n",
    "MainFoil_y = numpy.insert(MainFoil_y, 0, 0.0)"
   ]
  },
  {
   "cell_type": "code",
   "execution_count": 65,
   "metadata": {},
   "outputs": [],
   "source": [
    "FlapFoil = pd.read_csv('lessons/resources/NACA23012_FlapFoil.csv')\n",
    "\n",
    "FlapFoil_x = FlapFoil['1.181999999999999940e+00'].to_numpy(copy=True)\n",
    "FlapFoil_y = FlapFoil['-3.400000000000000244e-02'].to_numpy(copy=True)\n",
    "\n",
    "FlapFoil_x = numpy.insert(FlapFoil_x, 0, 1.181999999999999940e+00)\n",
    "FlapFoil_y = numpy.insert(FlapFoil_y, 0, -3.400000000000000244e-02)"
   ]
  },
  {
   "cell_type": "code",
   "execution_count": 66,
   "metadata": {},
   "outputs": [
    {
     "data": {
      "image/png": "[encoded data removed]",
      "text/plain": [
       "<Figure size 432x288 with 1 Axes>"
      ]
     },
     "metadata": {
      "needs_background": "light"
     },
     "output_type": "display_data"
    }
   ],
   "source": [
    "plt.scatter(MainFoil_x, MainFoil_y, color='g', s=10)\n",
    "plt.scatter(FlapFoil_x, FlapFoil_y, color='b', s=10)\n",
    "plt.axis(\"equal\")\n",
    "plt.grid()"
   ]
  },
  {
   "cell_type": "markdown",
   "metadata": {},
   "source": [
    "## Классы и функции"
   ]
  },
  {
   "cell_type": "code",
   "execution_count": 67,
   "metadata": {},
   "outputs": [],
   "source": [
    "class Panel:\n",
    "\n",
    "    def __init__(self, xa, ya, xb, yb):\n",
    "\n",
    "        self.xa, self.ya = xa, ya # начальная точка панели\n",
    "        self.xb, self.yb = xb, yb # конечная точка панели\n",
    "        \n",
    "        self.xc, self.yc = (xa+xb)/2, (ya+yb)/2         # центр панели\n",
    "        self.length = numpy.sqrt((xb-xa)**2+(yb-ya)**2) # длина панели\n",
    "        \n",
    "        # ориентация панели (угол между нормалью и осью x)\n",
    "        if xb-xa <= 0.0:\n",
    "            self.beta = numpy.arccos((yb-ya)/self.length)\n",
    "        elif xb-xa > 0.0:\n",
    "            self.beta = numpy.pi + numpy.arccos(-(yb-ya)/self.length)\n",
    "        \n",
    "        # расположение панели\n",
    "        if self.beta <= numpy.pi:\n",
    "            self.loc = 'upper' # верхняя поверхность\n",
    "        else:\n",
    "            self.loc = 'lower' # нижняя поверхность\n",
    "        \n",
    "        self.sigma = 0.0 # интенсивность источника\n",
    "        self.vt = 0.0    # касательная скорость\n",
    "        self.cp = 0.0    # коэффициент давления"
   ]
  },
  {
   "cell_type": "code",
   "execution_count": 68,
   "metadata": {},
   "outputs": [],
   "source": [
    "def define_panels(x, y):\n",
    "\n",
    "    panels = numpy.empty(len(x)-1, dtype=object)\n",
    "    for i in range(len(x)-1):\n",
    "        panels[i] = Panel(x[i], y[i], x[i+1], y[i+1])\n",
    "    \n",
    "    return panels"
   ]
  },
  {
   "cell_type": "code",
   "execution_count": 69,
   "metadata": {},
   "outputs": [],
   "source": [
    "class Freestream:\n",
    "\n",
    "    def __init__(self, u_inf=1.0, alpha=0.0):\n",
    "\n",
    "        self.u_inf = u_inf\n",
    "        self.alpha = alpha*numpy.pi/180.0 # градусы в радианы"
   ]
  },
  {
   "cell_type": "code",
   "execution_count": 70,
   "metadata": {},
   "outputs": [],
   "source": [
    "def integral(x, y, panel, dxdk, dydk):\n",
    "\n",
    "    def integrand(s):\n",
    "        return ( ((x - (panel.xa - numpy.sin(panel.beta)*s))*dxdk\n",
    "                  +(y - (panel.ya + numpy.cos(panel.beta)*s))*dydk)\n",
    "                / ((x - (panel.xa - numpy.sin(panel.beta)*s))**2\n",
    "                   +(y - (panel.ya + numpy.cos(panel.beta)*s))**2) )\n",
    "    return integrate.quad(integrand, 0.0, panel.length)[0]"
   ]
  },
  {
   "cell_type": "code",
   "execution_count": 71,
   "metadata": {},
   "outputs": [],
   "source": [
    "def source_contribution_normal(panels):\n",
    "\n",
    "    A = numpy.empty((panels.size, panels.size), dtype=float)\n",
    "\n",
    "    numpy.fill_diagonal(A, 0.5)\n",
    "\n",
    "    for i, panel_i in enumerate(panels):\n",
    "        for j, panel_j in enumerate(panels):\n",
    "            if i != j:\n",
    "                A[i, j] = 0.5/numpy.pi*integral(panel_i.xc, panel_i.yc, \n",
    "                                                panel_j,\n",
    "                                                numpy.cos(panel_i.beta),\n",
    "                                                numpy.sin(panel_i.beta))\n",
    "    return A"
   ]
  },
  {
   "cell_type": "code",
   "execution_count": 72,
   "metadata": {},
   "outputs": [],
   "source": [
    "def vortex_contribution_normal(panels):\n",
    "\n",
    "    A = numpy.empty((panels.size, panels.size), dtype=float)\n",
    "\n",
    "    numpy.fill_diagonal(A, 0.0)\n",
    "\n",
    "    for i, panel_i in enumerate(panels):\n",
    "        for j, panel_j in enumerate(panels):\n",
    "            if i != j:\n",
    "                A[i, j] = -0.5/numpy.pi*integral(panel_i.xc, panel_i.yc, \n",
    "                                                 panel_j,\n",
    "                                                 numpy.sin(panel_i.beta),\n",
    "                                                 -numpy.cos(panel_i.beta))\n",
    "    return A"
   ]
  },
  {
   "cell_type": "code",
   "execution_count": 73,
   "metadata": {},
   "outputs": [],
   "source": [
    "def kutta_condition(A_source, B_vortex, Na):\n",
    "\n",
    "    b2 = numpy.empty(A_source.shape[0]+2, dtype=float)\n",
    "    b1 = numpy.empty(A_source.shape[0]+2, dtype=float)\n",
    "    \n",
    "    b1[:-2] = B_vortex[0, :] + B_vortex[Na-1, :]\n",
    "    b1[-2] = - numpy.sum(A_source[0, :Na] + A_source[Na-1, :Na])\n",
    "    b1[-1] = - numpy.sum(A_source[0, Na:] + A_source[Na-1, Na:])\n",
    "    \n",
    "    b2[:-2] = B_vortex[Na, :] + B_vortex[-1, :]\n",
    "    b2[-2] = - numpy.sum(A_source[Na, :Na] + A_source[-1, :Na])\n",
    "    b2[-1] = - numpy.sum(A_source[Na, Na:] + A_source[-1, Na:])\n",
    "\n",
    "    return b1, b2"
   ]
  },
  {
   "cell_type": "code",
   "execution_count": 74,
   "metadata": {},
   "outputs": [],
   "source": [
    "def build_singularity_matrix(A_source, B_vortex, Na):\n",
    "\n",
    "    A = numpy.empty((A_source.shape[0]+2, A_source.shape[1]+2), \\\n",
    "                    dtype=float)\n",
    "\n",
    "    A[:-2, :-2] = A_source\n",
    "\n",
    "    A[:-2, -2] = numpy.sum(B_vortex[:,0:Na], axis=1)\n",
    "    A[:-2, -1] = numpy.sum(B_vortex[:,Na:], axis=1)\n",
    "    \n",
    "    A[-2, :], A[-1, :] = kutta_condition(A_source, B_vortex, numpy.size(MainFoil_panels))\n",
    "    return A"
   ]
  },
  {
   "cell_type": "code",
   "execution_count": 75,
   "metadata": {},
   "outputs": [],
   "source": [
    "def build_freestream_rhs(panels, freestream, Na):\n",
    "\n",
    "    b = numpy.empty(panels.size+2,dtype=float)\n",
    "\n",
    "    for i, panel in enumerate(panels):\n",
    "        b[i] = -freestream.u_inf * numpy.cos(freestream.alpha - panel.beta)\n",
    "\n",
    "        b[-1] = -freestream.u_inf*( numpy.sin(freestream.alpha-panels[0].beta)\n",
    "                               +numpy.sin(freestream.alpha-panels[Na-1].beta) )\n",
    "        b[-2] = -freestream.u_inf*( numpy.sin(freestream.alpha-panels[Na].beta)\n",
    "                               +numpy.sin(freestream.alpha-panels[-1].beta) )\n",
    "    return b"
   ]
  },
  {
   "cell_type": "code",
   "execution_count": 157,
   "metadata": {},
   "outputs": [],
   "source": [
    "def rotate_panels(centre, points_x, points_y, alpha):\n",
    "    \n",
    "    global MainFoil_panels\n",
    "    \n",
    "    alpha = alpha*numpy.pi/180.0\n",
    "    points_new_x = numpy.zeros_like(points_x)\n",
    "    points_new_y = points_new_x.copy()\n",
    "    \n",
    "    for i in range(numpy.size(points_x)):\n",
    "        points_new_x[i] = (points_x[i] - centre[0])*numpy.cos(alpha) + \\\n",
    "        (points_y[i] - centre[1])*numpy.sin(alpha) + centre[0]\n",
    "        points_new_y[i] = -(points_x[i] - centre[0])*numpy.sin(alpha) + \\\n",
    "        (points_y[i] - centre[1])*numpy.cos(alpha) + centre[1]\n",
    "        \n",
    "    points_new_x = numpy.append(points_new_x, points_new_x[0])\n",
    "    points_new_y = numpy.append(points_new_y, points_new_y[0])\n",
    "    \n",
    "    FlapFoil_panels = define_panels(points_new_x, points_new_y)\n",
    "    \n",
    "    return numpy.concatenate((MainFoil_panels, FlapFoil_panels))"
   ]
  },
  {
   "cell_type": "code",
   "execution_count": 144,
   "metadata": {},
   "outputs": [],
   "source": [
    "def compute_tangential_velocity(panels, freestream, gamma1, gamma2, A_source, B_vortex, Na):\n",
    "\n",
    "    A = numpy.empty((panels.size, panels.size+2), dtype=float)\n",
    "    # матрица вкладов источников в тангенциальную составляющую скорости\n",
    "    # равна\n",
    "    # матрице вкладов вихрей в нормальную составляющую скорости\n",
    "    A[:, :-2] = B_vortex\n",
    "    # матрица вкладов вихрей в тангенциальную составляющую скорости\n",
    "    # противоположна по знаку\n",
    "    # матрице вкладов источников в нормальную составляющую скорости\n",
    "    A[:, -2] = -numpy.sum(A_source[:, :Na], axis=1)\n",
    "    A[:, -1] = -numpy.sum(A_source[:, Na:], axis=1)\n",
    "    # добавляем набегающий поток\n",
    "    b = freestream.u_inf*numpy.sin([freestream.alpha-panel.beta \n",
    "                                    for panel in panels])\n",
    "    \n",
    "    strengths = numpy.append([panel.sigma for panel in panels], [gamma1, gamma2])\n",
    "    \n",
    "    tangential_velocities = numpy.dot(A, strengths) + b\n",
    "    \n",
    "    for i, panel in enumerate(panels):\n",
    "        panel.vt = tangential_velocities[i]"
   ]
  },
  {
   "cell_type": "code",
   "execution_count": 145,
   "metadata": {},
   "outputs": [],
   "source": [
    "def compute_pressure_coefficient(panels, freestream):\n",
    "\n",
    "    for panel in panels:\n",
    "        panel.cp = 1.0 - (panel.vt/freestream.u_inf)**2"
   ]
  },
  {
   "cell_type": "code",
   "execution_count": 146,
   "metadata": {},
   "outputs": [],
   "source": [
    "def compute_L(panels, alpha, theta, Na):\n",
    "    global gamma1\n",
    "    global gamma2\n",
    "    \n",
    "    L = 0.\n",
    "    D = 0.\n",
    "    alpha = alpha*numpy.pi/180.0\n",
    "    theta = theta*numpy.pi/180.0\n",
    "    \n",
    "    for i , panel in enumerate(panels):\n",
    "        if i < Na:\n",
    "            L += gamma1*panel.length\n",
    "        else:\n",
    "            L += gamma2*panel.length\n",
    "        D += panel.cp * (panel.xb - panel.xa)\n",
    "                \n",
    "    chord_m = abs(max(panel.xa for panel in panels[:Na]) - min(panel.xa for panel in panels[:Na]))\n",
    "    chord_fl = abs(max(panel.xa for panel in panels[Na:]) - min(panel.xa for panel in panels[Na:]))#/numpy.cos(alpha)\n",
    "    \n",
    "    L = -numpy.sin(theta)*D + numpy.cos(theta)*L\n",
    "    \n",
    "    return L/(chord_fl + chord_m)"
   ]
  },
  {
   "cell_type": "code",
   "execution_count": 147,
   "metadata": {},
   "outputs": [],
   "source": [
    "def calculate_everything(panels, alpha, theta):\n",
    "    \n",
    "    global gamma1\n",
    "    global gamma2\n",
    "    \n",
    "    u_inf = 1.0\n",
    "    freestream = Freestream(u_inf, theta)\n",
    "    \n",
    "    global A_source\n",
    "    global B_vortex\n",
    "    global A\n",
    "\n",
    "    b = build_freestream_rhs(panels, freestream, Na)\n",
    "    \n",
    "    strengths = numpy.linalg.solve(A, b)\n",
    "    \n",
    "    for i , panel in enumerate(panels):\n",
    "        panel.sigma = strengths[i]\n",
    "        \n",
    "    gamma1 = strengths[-2]\n",
    "    gamma2 = strengths[-1]\n",
    "    \n",
    "    compute_tangential_velocity(panels, freestream, gamma1, gamma2, \\\n",
    "                                A_source, B_vortex, Na)\n",
    "\n",
    "    compute_pressure_coefficient(panels, freestream)\n",
    "    L = compute_L(panels, alpha, theta, Na)\n",
    "    \n",
    "    return L"
   ]
  },
  {
   "cell_type": "markdown",
   "metadata": {},
   "source": [
    "## Собственно задача"
   ]
  },
  {
   "cell_type": "code",
   "execution_count": 159,
   "metadata": {},
   "outputs": [
    {
     "data": {
      "text/plain": [
       "(-0.3, 0.3)"
      ]
     },
     "execution_count": 159,
     "metadata": {},
     "output_type": "execute_result"
    },
    {
     "data": {
      "image/png": "[encoded data removed]",
      "text/plain": [
       "<Figure size 720x720 with 1 Axes>"
      ]
     },
     "metadata": {
      "needs_background": "light"
     },
     "output_type": "display_data"
    }
   ],
   "source": [
    "MainFoil_panels = define_panels(MainFoil_x, MainFoil_y)\n",
    "FlapFoil_panels = define_panels(FlapFoil_x, FlapFoil_y)\n",
    "\n",
    "Na = numpy.size(MainFoil_panels)\n",
    "alpha = +20\n",
    "\n",
    "panels_old = numpy.concatenate((MainFoil_panels, FlapFoil_panels))\n",
    "\n",
    "rotating_point = [1.03, -0.054]\n",
    "panels = rotate_panels(rotating_point, [panel.xa for panel in panels_old[Na:]], [panel.ya for panel in panels_old[Na:]], alpha)\n",
    "\n",
    "width = 10\n",
    "plt.figure(figsize=(width, width))\n",
    "plt.grid()\n",
    "plt.xlabel('x', fontsize=16)\n",
    "plt.ylabel('y', fontsize=16)\n",
    "plt.scatter(numpy.append([panel.xa for panel in panels], panels[0].xa),\n",
    "            numpy.append([panel.ya for panel in panels], panels[0].ya),\n",
    "            s=10)\n",
    "plt.axis('scaled', adjustable='box')\n",
    "plt.xlim(-0.1, 1.5)\n",
    "plt.ylim(-0.3, 0.3)"
   ]
  },
  {
   "cell_type": "code",
   "execution_count": 149,
   "metadata": {},
   "outputs": [],
   "source": [
    "A_source = source_contribution_normal(panels)\n",
    "B_vortex = vortex_contribution_normal(panels)\n",
    "A = build_singularity_matrix(A_source, B_vortex, Na)"
   ]
  },
  {
   "cell_type": "markdown",
   "metadata": {},
   "source": [
    "### Вопрос 1:"
   ]
  },
  {
   "cell_type": "code",
   "execution_count": 168,
   "metadata": {},
   "outputs": [
    {
     "name": "stdout",
     "output_type": "stream",
     "text": [
      "-0.459 0.655\n"
     ]
    }
   ],
   "source": [
    "eps = 0.005\n",
    "\n",
    "gamma1, gamma2 = 0., 0.\n",
    "\n",
    "theta_right = 14\n",
    "theta_left = -14\n",
    "\n",
    "L_left = calculate_everything(panels, alpha, theta_left)\n",
    "L_right = calculate_everything(panels, alpha, theta_right)\n",
    "\n",
    "if (L_left*L_right > 0):\n",
    "    print(\"Ну искать тут нечего:)\")\n",
    "    \n",
    "print(\"%.3f\" % L_left, \"%.3f\" % L_right)"
   ]
  },
  {
   "cell_type": "code",
   "execution_count": 169,
   "metadata": {},
   "outputs": [
    {
     "name": "stdout",
     "output_type": "stream",
     "text": [
      "L = 0.507 AoA = 0.0\n",
      "L = 0.117 AoA = -7.0\n",
      "L = -0.151 AoA = -10.5\n",
      "L = -0.011 AoA = -8.75\n",
      "L = 0.054 AoA = -7.875\n",
      "L = 0.022 AoA = -8.3125\n",
      "L = 0.005 AoA = -8.53125\n",
      "L = -0.003 AoA = -8.640625\n",
      "Optimal AoA was found: -8.640625\n"
     ]
    }
   ],
   "source": [
    "while(True):\n",
    "    \n",
    "    theta_mid = (theta_left + theta_right)/2\n",
    "    L_mid = calculate_everything(panels, alpha, theta_mid)\n",
    "    \n",
    "    if (L_mid*L_left < 0):\n",
    "        theta_right = theta_mid\n",
    "    else:\n",
    "        theta_left = theta_mid\n",
    "        \n",
    "    print(\"L =\", \"%.3f\" % L_mid, \"AoA =\", theta_mid)\n",
    "    \n",
    "    if (abs(L_left - L_mid) < eps) or (abs(L_mid) < eps):\n",
    "        break\n",
    "        \n",
    "print(\"Optimal AoA was found:\", theta_mid)"
   ]
  },
  {
   "cell_type": "markdown",
   "metadata": {},
   "source": [
    "### Вопрос 2:"
   ]
  },
  {
   "cell_type": "code",
   "execution_count": 170,
   "metadata": {},
   "outputs": [
    {
     "name": "stdout",
     "output_type": "stream",
     "text": [
      "-0.466 0.643\n"
     ]
    }
   ],
   "source": [
    "# theta = AoA, alpha = flap angle\n",
    "eps = 0.005\n",
    "theta = 0\n",
    "rotating_point = [1.03, -0.054]\n",
    "\n",
    "alpha_right = 20\n",
    "alpha_left = -20\n",
    "\n",
    "panels = rotate_panels(rotating_point, [panel.xa for panel in panels_old[Na:]], [panel.ya for panel in panels_old[Na:]], alpha_left)\n",
    "L_left = calculate_everything(panels, alpha_left, theta)\n",
    "\n",
    "panels = rotate_panels(rotating_point, [panel.xa for panel in panels_old[Na:]], [panel.ya for panel in panels_old[Na:]], alpha_right)\n",
    "L_right = calculate_everything(panels, alpha_right, theta)\n",
    "\n",
    "if (L_left*L_right > 0):\n",
    "    print(\"Ну искать тут нечего:)\")\n",
    "    \n",
    "print(\"%.3f\" % L_left, \"%.3f\" % L_right)"
   ]
  },
  {
   "cell_type": "code",
   "execution_count": 171,
   "metadata": {},
   "outputs": [
    {
     "name": "stdout",
     "output_type": "stream",
     "text": [
      "L = 0.091 flap angle = 0.0\n",
      "L = -0.189 flap angle = -10.0\n",
      "L = -0.049 flap angle = -5.0\n",
      "L = 0.021 flap angle = -2.5\n",
      "L = -0.014 flap angle = -3.75\n",
      "L = 0.003 flap angle = -3.125\n",
      "Zero lift flap angle was found: -3.125\n"
     ]
    }
   ],
   "source": [
    "while(True):\n",
    "    \n",
    "    alpha_mid = (alpha_left + alpha_right)/2\n",
    "    panels = rotate_panels(rotating_point, [panel.xa for panel in panels_old[Na:]], [panel.ya for panel in panels_old[Na:]], alpha_mid)\n",
    "    \n",
    "    L_mid = calculate_everything(panels, alpha_mid, theta)\n",
    "    \n",
    "    if (L_mid*L_left < 0):\n",
    "        alpha_right = alpha_mid\n",
    "    else:\n",
    "        alpha_left = alpha_mid\n",
    "        \n",
    "    print(\"L =\", \"%.3f\" % L_mid, \"flap angle =\", alpha_mid)\n",
    "    \n",
    "    if (abs(L_left - L_mid) < eps) or (abs(L_mid) < eps):\n",
    "        break\n",
    "        \n",
    "print(\"Zero lift flap angle was found:\", alpha_mid)"
   ]
  },
  {
   "cell_type": "markdown",
   "metadata": {},
   "source": [
    "### Вопрос 3:"
   ]
  },
  {
   "cell_type": "code",
   "execution_count": 172,
   "metadata": {},
   "outputs": [
    {
     "name": "stdout",
     "output_type": "stream",
     "text": [
      "L = 0.282 flap angle = 0 \n",
      "\n",
      "L = 0.401 flap angle = 5\n",
      "Скорость упала на 16.156 %\n",
      "\n",
      "L = 0.519 flap angle = 10\n",
      "Скорость упала на 26.297 %\n",
      "\n",
      "L = 0.636 flap angle = 15\n",
      "Скорость упала на 33.389 %\n",
      "\n"
     ]
    }
   ],
   "source": [
    "theta = 4\n",
    "\n",
    "alpha = 0\n",
    "Lift0 = calculate_everything(panels_old, alpha, theta)\n",
    "print(\"L =\", \"%.3f\" % Lift0, \"flap angle =\", alpha, \"\\n\")\n",
    "\n",
    "alpha = 5\n",
    "panels = rotate_panels(rotating_point, [panel.xa for panel in panels_old[Na:]], [panel.ya for panel in panels_old[Na:]], alpha)\n",
    "Lift = calculate_everything(panels, alpha, theta)\n",
    "print(\"L =\", \"%.3f\" % Lift, \"flap angle =\", alpha)\n",
    "print(\"Скорость упала на\", \"%.3f\" % (100*(1 - (Lift0/Lift)**(1/2))), \"%\\n\")\n",
    "\n",
    "alpha = 10\n",
    "panels = rotate_panels(rotating_point, [panel.xa for panel in panels_old[Na:]], [panel.ya for panel in panels_old[Na:]], alpha)\n",
    "Lift = calculate_everything(panels, alpha, theta)\n",
    "print(\"L =\", \"%.3f\" % Lift, \"flap angle =\", alpha)\n",
    "print(\"Скорость упала на\", \"%.3f\" % (100*(1 - (Lift0/Lift)**(1/2))), \"%\\n\")\n",
    "\n",
    "alpha = 15\n",
    "panels = rotate_panels(rotating_point, [panel.xa for panel in panels_old[Na:]], [panel.ya for panel in panels_old[Na:]], alpha)\n",
    "Lift = calculate_everything(panels, alpha, theta)\n",
    "print(\"L =\",\"%.3f\" % Lift, \"flap angle =\", alpha)\n",
    "print(\"Скорость упала на\", \"%.3f\" % (100*(1 - (Lift0/Lift)**(1/2))), \"%\\n\")"
   ]
  },
  {
   "cell_type": "code",
   "execution_count": null,
   "metadata": {},
   "outputs": [],
   "source": []
  }
 ],
 "metadata": {
  "kernelspec": {
   "display_name": "Python 3",
   "language": "python",
   "name": "python3"
  },
  "language_info": {
   "codemirror_mode": {
    "name": "ipython",
    "version": 3
   },
   "file_extension": ".py",
   "mimetype": "text/x-python",
   "name": "python",
   "nbconvert_exporter": "python",
   "pygments_lexer": "ipython3",
   "version": "3.7.3"
  }
 },
 "nbformat": 4,
 "nbformat_minor": 2
}
